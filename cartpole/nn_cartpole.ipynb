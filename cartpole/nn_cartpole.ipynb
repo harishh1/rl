{
 "metadata": {
  "language_info": {
   "codemirror_mode": {
    "name": "ipython",
    "version": 3
   },
   "file_extension": ".py",
   "mimetype": "text/x-python",
   "name": "python",
   "nbconvert_exporter": "python",
   "pygments_lexer": "ipython3",
   "version": "3.8.5-final"
  },
  "orig_nbformat": 2,
  "kernelspec": {
   "name": "python38564bitb3bb7bd63e754d039c060b4d3666c0b2",
   "display_name": "Python 3.8.5 64-bit",
   "language": "python"
  }
 },
 "nbformat": 4,
 "nbformat_minor": 2,
 "cells": [
  {
   "cell_type": "code",
   "execution_count": 11,
   "metadata": {},
   "outputs": [],
   "source": [
    "import sys\n",
    "sys.path.append('../Base/')\n",
    "\n",
    "from imports import *\n",
    "from sequential_models import FCQ, Cnn_model\n",
    "from training_startegy import EGreedyExpStrategy, GreedyStrategy\n",
    "from env import get_make_env_fn\n",
    "\n",
    "from Base import ReplayBuffer,create_res_dir\n",
    "from dqn import DQN\n",
    "from env_image import getImage\n",
    "from conf import *\n",
    "\n",
    "#vdisplay = Xvfb(width=1280, height=740, colordepth=16)\n",
    "#vdisplay.start()"
   ]
  },
  {
   "cell_type": "code",
   "execution_count": 12,
   "metadata": {},
   "outputs": [],
   "source": [
    "conf_json = json.dumps(conf, indent=6)\n",
    "current_dir = pathlib.Path.cwd()\n",
    "m_dir, cp_dir = create_res_dir(current_dir,conf_json, from_pixel)"
   ]
  },
  {
   "cell_type": "code",
   "execution_count": 13,
   "metadata": {
    "tags": []
   },
   "outputs": [],
   "source": [
    "dqn_results = []\n",
    "log.info(environment_settings)\n",
    "for seed in SEEDS:\n",
    "\n",
    "    #Neural Net\n",
    "    value_model_fn = lambda nS, nA: FCQ(nS, nA, hidden_dims = model_hidden_layers)\n",
    "    if from_pixel:\n",
    "        value_model_fn = lambda nS, nA: Cnn_model(nS, nA)\n",
    "\n",
    "    #Optimizer\n",
    "    value_optimizer_fn = lambda net, lr: optim.RMSprop(net.parameters(), lr=lr)\n",
    "\n",
    "    #Training Strategy\n",
    "    training_strategy_fn = lambda: EGreedyExpStrategy(init_epsilon=init_epsilon,  \n",
    "                                                      min_epsilon=min_epsilon, \n",
    "                                                      decay_steps=decay_steps)\n",
    "    #Testing Strategy\n",
    "    evaluation_strategy_fn = lambda: GreedyStrategy()\n",
    "\n",
    "    #Memory\n",
    "    replay_buffer_fn = lambda: ReplayBuffer(max_size=max_size, batch_size=batch_size)\n",
    "    \n",
    "    #Environment\n",
    "    env_name, gamma, max_minutes, \\\n",
    "    max_episodes, goal_mean_100_reward = environment_settings.values()\n",
    "\n",
    "    #Agent with all above functions\n",
    "    agent = DQN(replay_buffer_fn,\n",
    "                value_model_fn,\n",
    "                value_optimizer_fn,\n",
    "                value_optimizer_lr,\n",
    "                training_strategy_fn,\n",
    "                evaluation_strategy_fn,\n",
    "                n_warmup_batches,\n",
    "                update_target_every_steps)\n",
    "\n",
    "    make_env_fn, make_env_kargs = get_make_env_fn(env_name=env_name)\n",
    "\n",
    "    #Taining the agent!!!\n",
    "    result= agent.train(\n",
    "        make_env_fn, make_env_kargs, seed, gamma, max_minutes, max_episodes, goal_mean_100_reward, from_pixel, get_image_fn = lambda env: getImage(env), cp_name = str(cp_dir))\n",
    "\n",
    "    dqn_results.append(result)\n"
   ]
  },
  {
   "cell_type": "code",
   "execution_count": 13,
   "metadata": {},
   "outputs": [],
   "source": [
    "\n",
    "\n",
    "\n"
   ]
  },
  {
   "cell_type": "code",
   "execution_count": 14,
   "metadata": {},
   "outputs": [
    {
     "output_type": "execute_result",
     "data": {
      "text/plain": [
       "{'time': array([0.07296157, 0.07289124, 0.06435847, 0.12637043]),\n",
       " 'reward': array([19., 21., 14., 50.])}"
      ]
     },
     "metadata": {},
     "execution_count": 14
    }
   ],
   "source": [
    "result"
   ]
  },
  {
   "cell_type": "code",
   "execution_count": 15,
   "metadata": {},
   "outputs": [],
   "source": [
    "np.save(str(m_dir.joinpath('my_file.npy')), result) \n"
   ]
  },
  {
   "cell_type": "code",
   "execution_count": 16,
   "metadata": {},
   "outputs": [],
   "source": [
    "read_dictionary = np.load(str(m_dir.joinpath('my_file.npy')),allow_pickle='TRUE')"
   ]
  },
  {
   "cell_type": "code",
   "execution_count": 17,
   "metadata": {},
   "outputs": [
    {
     "output_type": "execute_result",
     "data": {
      "text/plain": [
       "{'time': array([0.07296157, 0.07289124, 0.06435847, 0.12637043]),\n",
       " 'reward': array([19., 21., 14., 50.])}"
      ]
     },
     "metadata": {},
     "execution_count": 17
    }
   ],
   "source": [
    "read_dictionary.item()"
   ]
  },
  {
   "cell_type": "code",
   "execution_count": null,
   "metadata": {},
   "outputs": [],
   "source": []
  }
 ]
}